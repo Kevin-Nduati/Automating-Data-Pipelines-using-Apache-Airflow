{
 "cells": [
  {
   "attachments": {},
   "cell_type": "markdown",
   "metadata": {},
   "source": [
    "Data Lineage of a dataset describes the discrete steps involved in the creation, movement and calculation of that dataset"
   ]
  }
 ],
 "metadata": {
  "language_info": {
   "name": "python"
  },
  "orig_nbformat": 4
 },
 "nbformat": 4,
 "nbformat_minor": 2
}
